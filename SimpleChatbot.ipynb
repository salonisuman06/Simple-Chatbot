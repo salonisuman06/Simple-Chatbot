{
  "nbformat": 4,
  "nbformat_minor": 0,
  "metadata": {
    "colab": {
      "name": "SimpleChatbot.ipynb",
      "provenance": [],
      "authorship_tag": "ABX9TyNa3RhG7pnuA7gy5zl79iH7"
    },
    "kernelspec": {
      "name": "python3",
      "display_name": "Python 3"
    },
    "language_info": {
      "name": "python"
    }
  },
  "cells": [
    {
      "cell_type": "markdown",
      "source": [
        "**Importing the Required Libraries**"
      ],
      "metadata": {
        "id": "o8uFcnPxVQes"
      }
    },
    {
      "cell_type": "code",
      "execution_count": 1,
      "metadata": {
        "id": "ZmCFUTYrS0LI"
      },
      "outputs": [],
      "source": [
        "import numpy as np\n",
        "import nltk\n",
        "import string\n",
        "import random"
      ]
    },
    {
      "cell_type": "markdown",
      "source": [
        "**Importing and reading the corpus**"
      ],
      "metadata": {
        "id": "I-VZWu7rZihh"
      }
    },
    {
      "cell_type": "code",
      "source": [
        "f=open('/content/chatbot.txt','r',errors='ignore')\n",
        "raw_doc=f.read()\n",
        "\n",
        "#for converting text to lowercase\n",
        "raw_doc=raw_doc.lower() \n",
        "\n",
        "#using the Punkt tokenizer\n",
        "nltk.download('punkt')\n",
        "\n",
        "#using the WordNet dictionary\n",
        "nltk.download('wordnet')\n",
        "\n",
        "#converts doc to list of sentences\n",
        "sent_tokens=nltk.sent_tokenize(raw_doc)\n",
        "\n",
        "#converts doc to list of words\n",
        "word_tokens=nltk.word_tokenize(raw_doc)"
      ],
      "metadata": {
        "colab": {
          "base_uri": "https://localhost:8080/"
        },
        "id": "bDTJyh_5ZbwE",
        "outputId": "6d3562ed-7e9e-4d4e-ad91-0241d493dbb4"
      },
      "execution_count": 6,
      "outputs": [
        {
          "output_type": "stream",
          "name": "stderr",
          "text": [
            "[nltk_data] Downloading package punkt to /root/nltk_data...\n",
            "[nltk_data]   Package punkt is already up-to-date!\n",
            "[nltk_data] Downloading package wordnet to /root/nltk_data...\n",
            "[nltk_data]   Package wordnet is already up-to-date!\n"
          ]
        }
      ]
    },
    {
      "cell_type": "markdown",
      "source": [
        "**Example of sentence tokens**"
      ],
      "metadata": {
        "id": "ttJPvXnCcYNs"
      }
    },
    {
      "cell_type": "code",
      "source": [
        "sent_tokens[:2]"
      ],
      "metadata": {
        "colab": {
          "base_uri": "https://localhost:8080/"
        },
        "id": "woJhJu8icfPZ",
        "outputId": "4eaa69d8-ea15-4fce-bbd5-eb67609911e6"
      },
      "execution_count": 7,
      "outputs": [
        {
          "output_type": "execute_result",
          "data": {
            "text/plain": [
              "['a virtual assistant chatbot\\n\\nthe 1966 eliza chatbot\\na chatbot or chatterbot is a software application used to conduct an on-line chat conversation via text or text-to-speech, in lieu of providing direct contact with a live human agent.',\n",
              " '[1][2] a chatbot is a type of software that can help customers by automating conversations and interact with them through messaging platforms.']"
            ]
          },
          "metadata": {},
          "execution_count": 7
        }
      ]
    },
    {
      "cell_type": "markdown",
      "source": [
        "**Example of Word tokens**"
      ],
      "metadata": {
        "id": "pAMRNN-acqG1"
      }
    },
    {
      "cell_type": "code",
      "source": [
        "word_tokens[:6]"
      ],
      "metadata": {
        "colab": {
          "base_uri": "https://localhost:8080/"
        },
        "id": "VlTwGm4Kct42",
        "outputId": "a369131e-df65-4144-b08f-d731bd6bd997"
      },
      "execution_count": 10,
      "outputs": [
        {
          "output_type": "execute_result",
          "data": {
            "text/plain": [
              "['a', 'virtual', 'assistant', 'chatbot', 'the', '1966']"
            ]
          },
          "metadata": {},
          "execution_count": 10
        }
      ]
    },
    {
      "cell_type": "markdown",
      "source": [
        "**Text preprocessing**"
      ],
      "metadata": {
        "id": "4t05IbGsfqoS"
      }
    },
    {
      "cell_type": "code",
      "source": [
        "lemmer=nltk.stem.WordNetLemmatizer()\n",
        "\n",
        "#Wordnet is a semantically-oriented dictionary of English included in nltk\n",
        "def LemTokens(tokens):\n",
        "  return[lemmer.lemmatize(token) for token in tokens]\n",
        "remove_punct_dict=dict((ord(punct), None)for punct in string.punctuation)\n",
        "def LemNormalize(text):\n",
        "  return LemTokens(nltk.word_tokenize(text.lower().translate(remove_punct_dict)))"
      ],
      "metadata": {
        "id": "KTzHMopffvDW"
      },
      "execution_count": 11,
      "outputs": []
    },
    {
      "cell_type": "markdown",
      "source": [
        "**Defining the greeting function**"
      ],
      "metadata": {
        "id": "q1G3yvtmgz5p"
      }
    },
    {
      "cell_type": "code",
      "source": [
        "GREET_INPUTS=(\"hello\",\"hi\",\"greetings\",\"sup\",\"what's up\",\"hey\")\n",
        "GREET_RESPONSES=(\"hi\",\"hey\",\"nods\",\"hi there!\",\"hello\",\"I am glad! you are talking to me\")\n",
        "def greet(sentence):\n",
        "  for word in sentence.split():\n",
        "    if word.lower() in GREET_INPUTS:\n",
        "      return random.choice(GREET_RESPONSES)"
      ],
      "metadata": {
        "id": "r0skwqEdg4B9"
      },
      "execution_count": 12,
      "outputs": []
    },
    {
      "cell_type": "markdown",
      "source": [
        "**Response Generation**"
      ],
      "metadata": {
        "id": "6FPTiS5Mh7l5"
      }
    },
    {
      "cell_type": "code",
      "source": [
        "from sklearn.feature_extraction.text import TfidfVectorizer\n",
        "from sklearn.metrics.pairwise import cosine_similarity\n",
        "def response(user_response):\n",
        "  robo1_response=''\n",
        "  TfidfVec= TfidfVectorizer(tokenizer=LemNormalize, stop_words='english')\n",
        "  Tfidf= TfidfVec.fit-transform(sent_tokens)\n",
        "  vals=cosine_similarity(tfidf[-1],tfidf)\n",
        "  idx=vals.argsort()[0][-2]\n",
        "  flat=vals.flatten()\n",
        "  flat.sort()\n",
        "  req_tfidf=flat[-2]\n",
        "  if(req_tfidf==0):\n",
        "    robo1_response=robo1_response+\"I am sorry! I don't understand you\"\n",
        "    return robo1_response\n",
        "  else:\n",
        "    robo1_response=robo1_response+sent_tokens[idx]\n",
        "    return robo1_response"
      ],
      "metadata": {
        "id": "EgnqKq54iAhV"
      },
      "execution_count": 14,
      "outputs": []
    },
    {
      "cell_type": "markdown",
      "source": [
        "**Defining conversation start/end protocols**"
      ],
      "metadata": {
        "id": "cLNrXW9HkKJi"
      }
    },
    {
      "cell_type": "code",
      "source": [
        "flag=True\n",
        "print(\"BOT: My name is Shuzo. Let's have a converstaion! Also, if you wnat to exit any time,just type Bye!\")\n",
        "while(flag==True):\n",
        "  user_response=input()\n",
        "  user_response=user_response.lower()\n",
        "  if(user_response!='Bye'):\n",
        "    if(user_response=='thanks' or user_response=='thank you'):\n",
        "      flag=False\n",
        "      print(\"BOT: You are welcome...\")\n",
        "    else:\n",
        "      if (greet(user_response)!=None):\n",
        "        print(\"BOT:\"+greet(user_response))\n",
        "      else:\n",
        "        sent_tokens.append(user_resposne)\n",
        "        word_tokens=word_tokens+nltk.word_tokenizer(user_response)\n",
        "        final_words=list(set(word_tokens))\n",
        "        print(\"BOT:\",end=\"\")\n",
        "        print(resposne(user_response))\n",
        "        sent_tokens.remove(user_response)\n",
        "  else:\n",
        "     flag=False\n",
        "     print(\"BOT: Goodbye! Take care <3\")"
      ],
      "metadata": {
        "colab": {
          "base_uri": "https://localhost:8080/"
        },
        "id": "iZiGJ9kokchH",
        "outputId": "4a5d1ff6-d3e3-450b-9b29-0a388dd92572"
      },
      "execution_count": 26,
      "outputs": [
        {
          "output_type": "stream",
          "name": "stdout",
          "text": [
            "BOT: My name is Shuzo. Let's have a converstaion! Also, if you wnat to exit any time,just type Bye!\n",
            "hi\n",
            "BOT:hello\n",
            "hello\n",
            "BOT:nods\n",
            "hi\n",
            "BOT:hi\n",
            "thanks\n",
            "BOT: You are welcome...\n"
          ]
        }
      ]
    }
  ]
}